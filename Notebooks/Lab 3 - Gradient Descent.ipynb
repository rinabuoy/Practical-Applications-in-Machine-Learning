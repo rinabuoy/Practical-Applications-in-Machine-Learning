{
 "cells": [
  {
   "cell_type": "markdown",
   "metadata": {},
   "source": [
    "Rina Buoy, PhD"
   ]
  },
  {
   "cell_type": "markdown",
   "metadata": {},
   "source": [
    "## Generate Training Datasets"
   ]
  },
  {
   "cell_type": "markdown",
   "metadata": {},
   "source": [
    "$\\hat{y}= \\theta_0 + \\theta_1x_1 + \\epsilon$\n",
    "\n",
    "$\\theta_0 = 4$\n",
    "\n",
    "$\\theta_1 = 3$\n"
   ]
  },
  {
   "cell_type": "code",
   "execution_count": 5,
   "metadata": {},
   "outputs": [],
   "source": [
    "import numpy as np\n",
    "import matplotlib.pyplot as plt\n",
    "\n",
    "# Generate some random data for demonstration\n",
    "np.random.seed(0)\n",
    "X = 2 * np.random.rand(100, 1) # epsilon \n",
    "y = 4 + 3 * X + np.random.randn(100, 1) # y_hat\n",
    "\n",
    "\n"
   ]
  },
  {
   "cell_type": "code",
   "execution_count": null,
   "metadata": {},
   "outputs": [],
   "source": [
    "\n",
    "plt.scatter(X, y)\n",
    "plt.xlabel('X')\n",
    "plt.ylabel('y')"
   ]
  },
  {
   "cell_type": "markdown",
   "metadata": {},
   "source": []
  },
  {
   "cell_type": "markdown",
   "metadata": {},
   "source": [
    "## Gradient Descent"
   ]
  },
  {
   "cell_type": "code",
   "execution_count": null,
   "metadata": {},
   "outputs": [],
   "source": [
    "# Define the learning rate and number of iterations\n",
    "learning_rate = 0.1\n",
    "n_iterations = 10\n",
    "\n",
    "# Add a column of ones to X for the bias term\n",
    "X_b = np.c_[np.ones((100, 1)), X]\n",
    "\n",
    "# Function to compute the loss (mean squared error)\n",
    "def compute_loss(theta, X, y):\n",
    "    error = y - X.dot(theta)\n",
    "    loss = np.mean(error**2)\n",
    "    return loss\n",
    "\n",
    "# Function to compute the gradients\n",
    "def compute_gradients(theta, X, y):\n",
    "    gradients = -2/X.shape[0] * X.T.dot(y - X.dot(theta))\n",
    "    return gradients\n",
    "\n",
    "# Function to perform gradient descent\n",
    "def gradient_descent(X, y, learning_rate, n_iterations):\n",
    "    theta = np.random.randn(2,1)  # Random initialization of parameters\n",
    "    theta_trajectory = []\n",
    "    losses = []\n",
    "    for iteration in range(n_iterations):\n",
    "        gradients = compute_gradients(theta, X, y)\n",
    "        theta = theta - learning_rate * gradients\n",
    "        theta_trajectory.append(theta)\n",
    "        losses.append(compute_loss(theta, X, y))\n",
    "\n",
    "        plt.figure()\n",
    "\n",
    "        plt.scatter(X[:,-1], y)\n",
    "        plt.plot(X[:,-1], X.dot(theta), color='red')\n",
    "        plt.xlabel('X')\n",
    "        plt.ylabel('y')\n",
    "        plt.title(f'Gradient Descent Linear Regression : Iter {iteration}')\n",
    "    return theta,theta_trajectory,losses\n",
    "\n",
    "# Perform gradient descent\n",
    "theta,theta_trajectory,losses = gradient_descent(X_b, y, learning_rate, n_iterations)\n",
    "\n",
    "# Print the parameters obtained by gradient descent\n",
    "print(\"Parameters obtained by gradient descent:\", theta)\n",
    "\n",
    "# Plot the data and the linear regression line\n",
    "\n",
    "#plt.show()\n"
   ]
  },
  {
   "cell_type": "markdown",
   "metadata": {},
   "source": [
    "## Loss Surface"
   ]
  },
  {
   "cell_type": "code",
   "execution_count": null,
   "metadata": {},
   "outputs": [],
   "source": [
    "\n",
    "\n",
    "theta0_vals = np.linspace(-10, 10, 100)\n",
    "theta1_vals = np.linspace(-10, 10, 100)\n",
    "theta0_mesh, theta1_mesh = np.meshgrid(theta0_vals, theta1_vals)\n",
    "loss_surface = np.zeros_like(theta0_mesh)\n",
    "for i in range(len(theta0_vals)):\n",
    "    for j in range(len(theta1_vals)):\n",
    "        theta_ij = np.array([[theta0_mesh[i,j]], [theta1_mesh[i,j]]])\n",
    "        loss_surface[i,j] = compute_loss(theta_ij, X_b, y)\n",
    "\n",
    "fig = plt.figure()\n",
    "ax = fig.add_subplot(111, projection='3d')\n",
    "ax.plot_surface(theta0_mesh, theta1_mesh, loss_surface, cmap='viridis')\n",
    "ax.set_xlabel('Theta 0')\n",
    "ax.set_ylabel('Theta 1')\n",
    "ax.set_zlabel('Loss')\n",
    "ax.set_title('Loss Surface')\n",
    "plt.show()"
   ]
  },
  {
   "cell_type": "markdown",
   "metadata": {},
   "source": [
    "## Learning Trajectory"
   ]
  },
  {
   "cell_type": "code",
   "execution_count": null,
   "metadata": {},
   "outputs": [],
   "source": [
    "# Plot the loss surface\n",
    "theta0_vals = np.linspace(-10, 10, 100)\n",
    "theta1_vals = np.linspace(-10, 10, 100)\n",
    "theta0_mesh, theta1_mesh = np.meshgrid(theta0_vals, theta1_vals)\n",
    "loss_surface = np.zeros_like(theta0_mesh)\n",
    "for i in range(len(theta0_vals)):\n",
    "    for j in range(len(theta1_vals)):\n",
    "        theta_ij = np.array([[theta0_mesh[i,j]], [theta1_mesh[i,j]]])\n",
    "        loss_surface[i,j] = compute_loss(theta_ij, X_b, y)\n",
    "\n",
    "# Plot the trajectory\n",
    "theta_trajectory = np.array(theta_trajectory).squeeze()\n",
    "fig = plt.figure()\n",
    "ax = fig.add_subplot(111, projection='3d')\n",
    "ax.plot_surface(theta0_mesh, theta1_mesh, loss_surface, cmap='viridis', alpha=0.5)\n",
    "ax.plot(theta_trajectory[:,0], theta_trajectory[:,1], losses, color='red', marker='o')\n",
    "ax.set_xlabel('Theta 0')\n",
    "ax.set_ylabel('Theta 1')\n",
    "ax.set_zlabel('Loss')\n",
    "ax.set_title('Gradient Descent Trajectory')\n",
    "plt.show()"
   ]
  },
  {
   "cell_type": "markdown",
   "metadata": {},
   "source": [
    "## Mini-Batch Training"
   ]
  },
  {
   "cell_type": "code",
   "execution_count": null,
   "metadata": {},
   "outputs": [],
   "source": [
    "\n",
    "\n",
    "# Define the learning rate and number of iterations\n",
    "learning_rate = 0.1\n",
    "n_iterations = 2\n",
    "batch_size = 20  # Mini-batch size\n",
    "\n",
    "# Function to compute the loss (mean squared error)\n",
    "def compute_loss(theta, X, y):\n",
    "    error = y - X.dot(theta)\n",
    "    loss = np.mean(error**2)\n",
    "    return loss\n",
    "\n",
    "# Function to compute the gradients using a mini-batch\n",
    "def compute_gradients(theta, X_batch, y_batch):\n",
    "    gradients = -2/X_batch.shape[0] * X_batch.T.dot(y_batch - X_batch.dot(theta))\n",
    "    return gradients\n",
    "\n",
    "# Function to perform gradient descent with mini-batch training\n",
    "def gradient_descent(X, y, learning_rate, n_iterations, batch_size):\n",
    "    theta = np.random.randn(2,1)  # Random initialization of parameters\n",
    "    theta_trajectory = [theta]\n",
    "    loss = compute_loss(theta, X, y)\n",
    "    losses = [loss ]\n",
    "    m = len(X)\n",
    "    for iteration in range(n_iterations):\n",
    "        shuffled_indices = np.random.permutation(m)\n",
    "        X_shuffled = X[shuffled_indices]\n",
    "        y_shuffled = y[shuffled_indices]\n",
    "        for i in range(0, m, batch_size):\n",
    "            X_batch = X_shuffled[i:i+batch_size]\n",
    "            y_batch = y_shuffled[i:i+batch_size]\n",
    "            gradients = compute_gradients(theta, X_batch, y_batch)\n",
    "            theta = theta - learning_rate * gradients\n",
    "            loss = compute_loss(theta, X, y)\n",
    "            theta_trajectory.append(theta)\n",
    "            losses.append(loss)\n",
    "            plt.figure()\n",
    "\n",
    "            plt.scatter(X[:,-1], y)\n",
    "            plt.plot(X[:,-1], X.dot(theta), color='red')\n",
    "            plt.xlabel('X')\n",
    "            plt.ylabel('y')\n",
    "            plt.title(f'Gradient Descent Linear Regression : Iteration {iteration} Batch {i}')\n",
    "        \n",
    "    return theta_trajectory, losses\n",
    "\n",
    "# Perform gradient descent with mini-batch training\n",
    "theta_trajectory,losses = gradient_descent(X_b, y, learning_rate, n_iterations, batch_size)\n",
    "\n",
    "\n"
   ]
  },
  {
   "cell_type": "code",
   "execution_count": null,
   "metadata": {},
   "outputs": [],
   "source": [
    "# Plot the loss surface\n",
    "theta0_vals = np.linspace(-10, 10, 100)\n",
    "theta1_vals = np.linspace(-10, 10, 100)\n",
    "theta0_mesh, theta1_mesh = np.meshgrid(theta0_vals, theta1_vals)\n",
    "loss_surface = np.zeros_like(theta0_mesh)\n",
    "for i in range(len(theta0_vals)):\n",
    "    for j in range(len(theta1_vals)):\n",
    "        theta_ij = np.array([[theta0_mesh[i,j]], [theta1_mesh[i,j]]])\n",
    "        loss_surface[i,j] = compute_loss(theta_ij, X_b, y)\n",
    "\n",
    "# Plot the trajectory\n",
    "theta_trajectory = np.array(theta_trajectory).squeeze()\n",
    "fig = plt.figure()\n",
    "ax = fig.add_subplot(111, projection='3d')\n",
    "ax.plot_surface(theta0_mesh, theta1_mesh, loss_surface, cmap='viridis', alpha=0.5)\n",
    "ax.plot(theta_trajectory[:,0], theta_trajectory[:,1], losses, color='red', marker='o')\n",
    "ax.set_xlabel('Theta 0')\n",
    "ax.set_ylabel('Theta 1')\n",
    "ax.set_zlabel('Loss')\n",
    "ax.set_title('Gradient Descent Trajectory with Mini-Batch Training')\n",
    "plt.show()"
   ]
  }
 ],
 "metadata": {
  "kernelspec": {
   "display_name": "base",
   "language": "python",
   "name": "python3"
  },
  "language_info": {
   "codemirror_mode": {
    "name": "ipython",
    "version": 3
   },
   "file_extension": ".py",
   "mimetype": "text/x-python",
   "name": "python",
   "nbconvert_exporter": "python",
   "pygments_lexer": "ipython3",
   "version": "3.11.5"
  }
 },
 "nbformat": 4,
 "nbformat_minor": 2
}

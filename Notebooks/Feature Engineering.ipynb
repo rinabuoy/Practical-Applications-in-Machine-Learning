{
 "cells": [
  {
   "cell_type": "markdown",
   "metadata": {},
   "source": [
    "## Feature Engineering\n",
    "\n",
    "by Rina Buoy, PhD"
   ]
  },
  {
   "cell_type": "markdown",
   "metadata": {},
   "source": [
    "### 1. Generating dummy data"
   ]
  },
  {
   "cell_type": "code",
   "execution_count": 3,
   "metadata": {},
   "outputs": [],
   "source": [
    "# Import necessary libraries\n",
    "import pandas as pd\n",
    "import numpy as np\n",
    "\n",
    "# Sample dataset creation\n",
    "data = {\n",
    "    'age': [25, 32, 47, 51, 62],\n",
    "    'salary': [50000, 60000, 120000, 90000, 140000],\n",
    "    'gender': ['Male', 'Female', 'Female', 'Male', 'Female'],\n",
    "    'city': ['Osaka', 'Tokyo', 'Tokyo', 'Osaka', 'Kyoto'],\n",
    "    'bought_product': [1, 0, 1, 0, 1]  # Target variable\n",
    "}\n",
    "\n",
    "\n",
    "# Create a DataFrame\n",
    "df = pd.DataFrame(data)\n"
   ]
  },
  {
   "cell_type": "markdown",
   "metadata": {},
   "source": [
    "### 2. Feature Engineering"
   ]
  },
  {
   "cell_type": "code",
   "execution_count": 4,
   "metadata": {},
   "outputs": [],
   "source": [
    "\n",
    "\n",
    "# Step 1: Feature Engineering - Adding new features\n",
    "# Add a new feature: salary per age\n",
    "df['salary_per_age'] = df['salary'] / df['age']\n",
    "\n",
    "# Step 2: Encoding Categorical Data\n",
    "# Manually encode 'gender' (Male -> 1, Female -> 0)\n",
    "df['gender_encoded'] = df['gender'].map({'Male': 1, 'Female': 0})\n",
    "\n",
    "# Manually encode 'city' using One-Hot Encoding\n",
    "df = pd.get_dummies(df, columns=['city'], drop_first=True)  # Drop the first to avoid multicollinearity\n",
    "\n",
    "# Step 3: Normalization (Min-Max Scaling)\n",
    "def min_max_scaling(series):\n",
    "    return (series - series.min()) / (series.max() - series.min())\n",
    "\n",
    "# Apply normalization to 'salary' and 'salary_per_age'\n",
    "df['salary'] = min_max_scaling(df['salary'])\n",
    "df['salary_per_age'] = min_max_scaling(df['salary_per_age'])\n",
    "\n",
    "# Step 4: Generating Polynomial Features\n",
    "def add_polynomial_features(df, columns, degree=2):\n",
    "    for col in columns:\n",
    "        for power in range(2, degree + 1):\n",
    "            df[f'{col}_pow_{power}'] = df[col] ** power\n",
    "    return df\n",
    "\n",
    "# Add polynomial features for 'age' and 'salary'\n",
    "df = add_polynomial_features(df, ['age', 'salary'], degree=2)\n",
    "\n",
    "\n"
   ]
  },
  {
   "cell_type": "markdown",
   "metadata": {},
   "source": [
    "### 3. Final Features"
   ]
  },
  {
   "cell_type": "code",
   "execution_count": 5,
   "metadata": {},
   "outputs": [
    {
     "name": "stdout",
     "output_type": "stream",
     "text": [
      "Transformed Dataset:\n",
      "   age    salary  gender  bought_product  salary_per_age  gender_encoded  \\\n",
      "0   25  0.000000    Male               1        0.298413               1   \n",
      "1   32  0.111111  Female               0        0.139881               0   \n",
      "2   47  0.777778  Female               1        1.000000               0   \n",
      "3   51  0.444444    Male               0        0.000000               1   \n",
      "4   62  1.000000  Female               1        0.625704               0   \n",
      "\n",
      "   city_Osaka  city_Tokyo  age_pow_2  salary_pow_2  \n",
      "0        True       False        625      0.000000  \n",
      "1       False        True       1024      0.012346  \n",
      "2       False        True       2209      0.604938  \n",
      "3        True       False       2601      0.197531  \n",
      "4       False       False       3844      1.000000  \n",
      "\n",
      "Features (X):\n",
      "   age    salary  gender_encoded  city_Osaka  city_Tokyo  age_pow_2  \\\n",
      "0   25  0.000000               1        True       False        625   \n",
      "1   32  0.111111               0       False        True       1024   \n",
      "2   47  0.777778               0       False        True       2209   \n",
      "3   51  0.444444               1        True       False       2601   \n",
      "4   62  1.000000               0       False       False       3844   \n",
      "\n",
      "   salary_pow_2  \n",
      "0      0.000000  \n",
      "1      0.012346  \n",
      "2      0.604938  \n",
      "3      0.197531  \n",
      "4      1.000000  \n",
      "\n",
      "Target (y):\n",
      "0    1\n",
      "1    0\n",
      "2    1\n",
      "3    0\n",
      "4    1\n",
      "Name: bought_product, dtype: int64\n"
     ]
    }
   ],
   "source": [
    "# Final dataset after feature engineering, normalization, and encoding\n",
    "print(\"Transformed Dataset:\")\n",
    "print(df)\n",
    "\n",
    "# Optional: Split features (X) and target (y)\n",
    "X = df.drop(columns=['bought_product', 'gender', 'salary_per_age'])  # Removing raw and unneeded columns\n",
    "y = df['bought_product']\n",
    "\n",
    "print(\"\\nFeatures (X):\")\n",
    "print(X)\n",
    "\n",
    "print(\"\\nTarget (y):\")\n",
    "print(y)"
   ]
  }
 ],
 "metadata": {
  "kernelspec": {
   "display_name": "base",
   "language": "python",
   "name": "python3"
  },
  "language_info": {
   "codemirror_mode": {
    "name": "ipython",
    "version": 3
   },
   "file_extension": ".py",
   "mimetype": "text/x-python",
   "name": "python",
   "nbconvert_exporter": "python",
   "pygments_lexer": "ipython3",
   "version": "3.11.5"
  }
 },
 "nbformat": 4,
 "nbformat_minor": 2
}

{
 "cells": [
  {
   "cell_type": "markdown",
   "metadata": {},
   "source": [
    "## Homework 3 \n",
    "\n",
    "PAML 2024,\n",
    "\n",
    "Rina Buoy, PhD"
   ]
  },
  {
   "cell_type": "markdown",
   "metadata": {},
   "source": [
    "YOUR FULL NAME: "
   ]
  },
  {
   "cell_type": "code",
   "execution_count": null,
   "metadata": {},
   "outputs": [],
   "source": [
    "import numpy as np\n",
    "import pandas as pd\n",
    "import matplotlib.pyplot as plt\n",
    "from sklearn.model_selection import train_test_split\n",
    "#from sklearn.preprocessing import LabelEncoder\n",
    "\n",
    "# Logistic Regression class with Gradient Descent (same as above)\n",
    "class LogisticRegressionGD:\n",
    "    def __init__(self, learning_rate=0.01, iterations=1000):\n",
    "        self.learning_rate = learning_rate\n",
    "        self.iterations = iterations\n",
    "\n",
    "    def sigmoid(self, z):\n",
    "        \"\"\"Sigmoid function to map predictions to probabilities.\"\"\"\n",
    "        return 1 / (1 + np.exp(-z))\n",
    "\n",
    "    def fit(self, X, y):\n",
    "        \"\"\"Training the logistic regression model using gradient descent.\"\"\"\n",
    "        self.m, self.n = X.shape\n",
    "        self.theta = np.zeros(self.n)\n",
    "        self.bias = 0\n",
    "\n",
    "        for i in range(self.iterations):\n",
    "            z = np.dot(X, self.theta) + self.bias\n",
    "            y_pred = self.sigmoid(z)\n",
    "            dw = (1 / self.m) * np.dot(X.T, (y_pred - y))\n",
    "            db = (1 / self.m) * np.sum(y_pred - y)\n",
    "            self.theta -= self.learning_rate * dw\n",
    "            self.bias -= self.learning_rate * db\n",
    "            \n",
    "    def predict(self, X):\n",
    "        z = np.dot(X, self.theta) + self.bias\n",
    "        y_pred = self.sigmoid(z)\n",
    "        return [1 if i > 0.5 else 0 for i in y_pred]\n",
    "\n",
    "\n",
    "\n"
   ]
  },
  {
   "cell_type": "markdown",
   "metadata": {},
   "source": [
    "### GOAL\n",
    "\n",
    "Apply the provided logistic regression solver to  a Congressional Voting Records dataset."
   ]
  },
  {
   "cell_type": "code",
   "execution_count": 3,
   "metadata": {},
   "outputs": [],
   "source": [
    "# Load the Congressional Voting Records dataset\n",
    "url = \"https://archive.ics.uci.edu/ml/machine-learning-databases/voting-records/house-votes-84.data\"\n",
    "columns = ['party', 'handicapped-infants', 'water-project', 'budget', 'physician-fee-freeze',\n",
    "           'el-salvador-aid', 'religious-groups', 'anti-satellite-ban', 'aid-to-contras',\n",
    "           'mx-missile', 'immigration', 'synfuels', 'education', 'superfund-sue', 'crime',\n",
    "           'duty-free', 'south-africa']"
   ]
  },
  {
   "cell_type": "markdown",
   "metadata": {},
   "source": [
    "#### TASK 1:\n",
    "\n",
    "(a) Load the above dataset using Pandas, \n",
    "\n",
    "(b) Replace 'y' with 1 and 'n' with 0, \n",
    "\n",
    "(c) Handle missing data by filling it with the mode of each column\n",
    "\n",
    "\n",
    "\n",
    "\n"
   ]
  },
  {
   "cell_type": "code",
   "execution_count": 2,
   "metadata": {},
   "outputs": [],
   "source": [
    "### YOUR CODES"
   ]
  },
  {
   "cell_type": "markdown",
   "metadata": {},
   "source": [
    "#### TASK 2:\n",
    "\n",
    "(a) Extract the feature matrix, X, and the target vector, y\n",
    "\n",
    "(b) Split it into train and test sets using train_test_split"
   ]
  },
  {
   "cell_type": "code",
   "execution_count": null,
   "metadata": {},
   "outputs": [],
   "source": [
    "### YOUR CODES\n",
    "\n"
   ]
  },
  {
   "cell_type": "markdown",
   "metadata": {},
   "source": [
    "#### TASK 3:\n",
    "\n",
    "(a) Create and train the model on the train set  \n",
    "\n",
    "(b) Compute the accuracy on the test set"
   ]
  },
  {
   "cell_type": "code",
   "execution_count": null,
   "metadata": {},
   "outputs": [],
   "source": [
    "### YOUR CODES"
   ]
  }
 ],
 "metadata": {
  "kernelspec": {
   "display_name": "base",
   "language": "python",
   "name": "python3"
  },
  "language_info": {
   "codemirror_mode": {
    "name": "ipython",
    "version": 3
   },
   "file_extension": ".py",
   "mimetype": "text/x-python",
   "name": "python",
   "nbconvert_exporter": "python",
   "pygments_lexer": "ipython3",
   "version": "3.11.5"
  }
 },
 "nbformat": 4,
 "nbformat_minor": 2
}
